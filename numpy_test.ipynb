{
 "cells": [
  {
   "cell_type": "code",
   "execution_count": 2,
   "metadata": {},
   "outputs": [],
   "source": [
    "from PIL import Image\n",
    "import numpy as np"
   ]
  },
  {
   "cell_type": "code",
   "execution_count": 8,
   "metadata": {},
   "outputs": [],
   "source": [
    "file_name = \"./pcv_data/empire.jpg\""
   ]
  },
  {
   "cell_type": "code",
   "execution_count": 9,
   "metadata": {},
   "outputs": [
    {
     "name": "stdout",
     "output_type": "stream",
     "text": [
      "(800, 569, 3) uint8\n"
     ]
    }
   ],
   "source": [
    "im = np.array(Image.open(file_name))\n",
    "print(im.shape, im.dtype)"
   ]
  },
  {
   "cell_type": "code",
   "execution_count": 24,
   "metadata": {},
   "outputs": [
    {
     "name": "stdout",
     "output_type": "stream",
     "text": [
      "(800, 569) float32\n"
     ]
    }
   ],
   "source": [
    "im = np.array(Image.open(file_name).convert('L'),'f')   #'f' float format\n",
    "print(im.shape, im.dtype)"
   ]
  },
  {
   "cell_type": "code",
   "execution_count": 25,
   "metadata": {},
   "outputs": [],
   "source": [
    "# invert image\n",
    "im2 = 255 - im\n",
    "\n",
    "# clamp to interval 100...200\n",
    "im3 = (100.0/255)*im + 100\n",
    "\n",
    "# squared\n",
    "im4 = 255.0 * (im/255.0)**2"
   ]
  },
  {
   "cell_type": "code",
   "execution_count": 26,
   "metadata": {},
   "outputs": [
    {
     "name": "stdout",
     "output_type": "stream",
     "text": [
      "3 255\n",
      "0 252\n",
      "101 200\n",
      "0 255\n"
     ]
    }
   ],
   "source": [
    "print(int(im.min()), int(im.max()))\n",
    "print(int(im2.min()), int(im2.max()))\n",
    "print(int(im3.min()), int(im3.max()))\n",
    "print(int(im4.min()), int(im4.max()))"
   ]
  },
  {
   "cell_type": "code",
   "execution_count": 42,
   "metadata": {},
   "outputs": [],
   "source": [
    "pil_im = Image.fromarray(np.uint8(im))\n",
    "pil_im.show()"
   ]
  },
  {
   "cell_type": "code",
   "execution_count": 43,
   "metadata": {},
   "outputs": [],
   "source": [
    "#image resizing\n",
    "\n",
    "def imresize(im, sz):\n",
    "    pil_im = Image.fromarray(np.uint8(im))\n",
    "    return np.array(pil_im.resize(sz))"
   ]
  },
  {
   "cell_type": "code",
   "execution_count": 44,
   "metadata": {},
   "outputs": [],
   "source": [
    "import matplotlib.pyplot as plt"
   ]
  },
  {
   "cell_type": "code",
   "execution_count": 48,
   "metadata": {},
   "outputs": [],
   "source": [
    "def histeq(im, nbr_bins=256):\n",
    "    imhist, bins = np.histogram(im.flatten(), nbr_bins, normed=True)\n",
    "    cdf = imhist.cumsum()\n",
    "    cdf = 255 * cdf / cdf[-1]\n",
    "    im2 = np.interp(im.flatten(), bins[:-1], cdf)\n",
    "    return im2.reshape(im.shape), cdf"
   ]
  },
  {
   "cell_type": "code",
   "execution_count": 56,
   "metadata": {},
   "outputs": [
    {
     "name": "stderr",
     "output_type": "stream",
     "text": [
      "/var/folders/dt/14v_czf95n7_xkcs5fzhy1ww0000gn/T/ipykernel_6462/841092168.py:2: VisibleDeprecationWarning: Passing `normed=True` on non-uniform bins has always been broken, and computes neither the probability density function nor the probability mass function. The result is only correct if the bins are uniform, when density=True will produce the same result anyway. The argument will be removed in a future version of numpy.\n",
      "  imhist, bins = np.histogram(im.flatten(), nbr_bins, normed=True)\n"
     ]
    }
   ],
   "source": [
    "file_name = \"./pcv_data/AquaTermi_lowcontrast.jpg\"\n",
    "im = np.array(Image.open(file_name).convert(\"L\"))\n",
    "im2, cdf = histeq(im)\n",
    "pil_im2 = Image.fromarray(im2)\n",
    "pil_im2.show()"
   ]
  },
  {
   "cell_type": "code",
   "execution_count": 57,
   "metadata": {},
   "outputs": [],
   "source": [
    "# Averaging images\n",
    "def compute_avdrage(imlist):\n",
    "    average_im = np.array(Image.open(imlist[0]),'f')\n",
    "    for im_name in imlist[1:]:\n",
    "        try:\n",
    "            average_im+= np.array(Image.open(im_name))\n",
    "        except:\n",
    "            print(im_name + 'skipped')\n",
    "    average_im /= len(imlist)\n",
    "    return np.array(average_im, 'uint8')"
   ]
  },
  {
   "cell_type": "code",
   "execution_count": 58,
   "metadata": {},
   "outputs": [],
   "source": [
    "def pca(X):\n",
    "    num_data, dim = X.shape\n",
    "    mean_X = X.mean(axis=0)\n",
    "    X = X - mean_X\n",
    "\n",
    "    if dim > num_data:\n",
    "        M = np.dot(X, X.T)\n",
    "        e, EV = np.linalg.eigh(M)\n",
    "        tmp = np.dot(X.T, EV).T\n",
    "        V = tmp[::-1]\n",
    "        S = np.sqrt(e)[::-1]\n",
    "        for i in range(V.shape[1]):\n",
    "            V[:,i] /= S\n",
    "    else:\n",
    "        U, S, V = np.linalg.svd(X)\n",
    "        V = V[:num_data]\n",
    "    return V, S, mean_X\n"
   ]
  },
  {
   "cell_type": "code",
   "execution_count": 62,
   "metadata": {},
   "outputs": [],
   "source": [
    "import pylab as plb"
   ]
  },
  {
   "cell_type": "code",
   "execution_count": 64,
   "metadata": {},
   "outputs": [
    {
     "data": {
      "text/plain": [
       "(800, 569)"
      ]
     },
     "execution_count": 64,
     "metadata": {},
     "output_type": "execute_result"
    }
   ],
   "source": [
    "file_name = \"./pcv_data/empire.jpg\"\n",
    "im = np.array(Image.open(file_name))\n",
    "m,n = im.shape[0:2]"
   ]
  },
  {
   "cell_type": "code",
   "execution_count": null,
   "metadata": {},
   "outputs": [],
   "source": []
  }
 ],
 "metadata": {
  "kernelspec": {
   "display_name": "Python 3.8.13 ('cvWs')",
   "language": "python",
   "name": "python3"
  },
  "language_info": {
   "codemirror_mode": {
    "name": "ipython",
    "version": 3
   },
   "file_extension": ".py",
   "mimetype": "text/x-python",
   "name": "python",
   "nbconvert_exporter": "python",
   "pygments_lexer": "ipython3",
   "version": "3.8.13"
  },
  "orig_nbformat": 4,
  "vscode": {
   "interpreter": {
    "hash": "9071490e4df7fdc9580756d46dfb4807330eeabe966a424d3d500bc18915d107"
   }
  }
 },
 "nbformat": 4,
 "nbformat_minor": 2
}
